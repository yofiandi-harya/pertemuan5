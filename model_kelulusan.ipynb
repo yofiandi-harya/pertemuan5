# ==============================
# MODEL KELULUSAN MAHASISWA
# ==============================

# 1️⃣ Import Library
import pandas as pd
import numpy as np
import seaborn as sns
import matplotlib.pyplot as plt

from sklearn.model_selection import train_test_split
from sklearn.preprocessing import StandardScaler
from sklearn.linear_model import LogisticRegression
from sklearn.metrics import classification_report, confusion_matrix, roc_curve, auc
import joblib

# 2️⃣ Load Dataset
df = pd.read_csv("processed_kelulusan.csv")
print("Dataset shape:", df.shape)
df.head()

# 3️⃣ EDA
print(df.describe())

plt.figure(figsize=(8,6))
sns.heatmap(df.corr(), annot=True, cmap="coolwarm")
plt.title("Heatmap Korelasi Variabel")
plt.show()

fig, axes = plt.subplots(1, 2, figsize=(12,5))
sns.histplot(df['IPK'], bins=10, kde=True, ax=axes[0])
sns.histplot(df['Waktu_Belajar_Jam'], bins=10, kde=True, ax=axes[1])
axes[0].set_title("Distribusi IPK")
axes[1].set_title("Distribusi Waktu Belajar")
plt.show()

# 4️⃣ Split Dataset
X = df.drop('Lulus', axis=1)
y = df['Lulus']

X_train, X_temp, y_train, y_temp = train_test_split(
    X, y, test_size=0.3, stratify=y, random_state=42)

X_val, X_test, y_val, y_test = train_test_split(
    X_temp, y_temp, test_size=0.5, stratify=y_temp, random_state=42)

print("Train:", X_train.shape)
print("Validation:", X_val.shape)
print("Test:", X_test.shape)

# 5️⃣ Normalisasi
scaler = StandardScaler()
X_train_scaled = scaler.fit_transform(X_train)
X_val_scaled = scaler.transform(X_val)
X_test_scaled = scaler.transform(X_test)

# 6️⃣ Training Model
model = LogisticRegression()
model.fit(X_train_scaled, y_train)
y_pred = model.predict(X_val_scaled)

print("=== Classification Report ===")
print(classification_report(y_val, y_pred))

# 7️⃣ Confusion Matrix
sns.heatmap(confusion_matrix(y_val, y_pred), annot=True, fmt='d', cmap='Blues')
plt.title("Confusion Matrix (Validation)")
plt.xlabel("Predicted")
plt.ylabel("Actual")
plt.show()

# 8️⃣ ROC-AUC
y_prob = model.predict_proba(X_test_scaled)[:, 1]
fpr, tpr, thresholds = roc_curve(y_test, y_prob)
roc_auc = auc(fpr, tpr)

plt.figure(figsize=(6,6))
plt.plot(fpr, tpr, label=f"ROC Curve (AUC = {roc_auc:.2f})")
plt.plot([0,1], [0,1], 'r--')
plt.xlabel("False Positive Rate")
plt.ylabel("True Positive Rate")
plt.title("ROC Curve - Test Set")
plt.legend(loc="lower right")
plt.savefig("roc_test.png")
plt.show()

# 9️⃣ Simpan Model
joblib.dump(model, "model.pkl")
print("Model saved as model.pkl")

# 🔟 Prediksi Contoh Baru
sample = pd.DataFrame({
    "IPK": [3.5],
    "Jumlah_Absensi": [4],
    "Waktu_Belajar_Jam": [8],
    "Rasio_Absensi": [4/14],
    "IPK_x_Study": [3.5*8]
})

sample_scaled = scaler.transform(sample)
prediction = model.predict(sample_scaled)[0]
print("Prediksi Lulus:" , "Ya" if prediction==1 else "Tidak")
